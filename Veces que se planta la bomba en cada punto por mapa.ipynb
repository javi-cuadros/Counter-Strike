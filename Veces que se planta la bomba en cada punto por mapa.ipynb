{
 "cells": [
  {
   "cell_type": "markdown",
   "metadata": {},
   "source": [
    "# Veces que se planta la bomba en cada punto por mapa"
   ]
  },
  {
   "cell_type": "markdown",
   "metadata": {},
   "source": [
    "Bibliotecas necesarias para la ejecución"
   ]
  },
  {
   "cell_type": "code",
   "execution_count": 14,
   "metadata": {},
   "outputs": [],
   "source": [
    "import pyodbc \n",
    "import pandas as pd\n",
    "import matplotlib\n",
    "import matplotlib.pyplot as plt\n",
    "import numpy as np"
   ]
  },
  {
   "cell_type": "markdown",
   "metadata": {},
   "source": [
    "Definición de parámetros para la conexión con la base de datos"
   ]
  },
  {
   "cell_type": "code",
   "execution_count": 16,
   "metadata": {},
   "outputs": [],
   "source": [
    "conn_str_esea = (\n",
    "    r'Driver={SQL Server};'\n",
    "    r'Server=localhost\\MSSQLSERVER01;'\n",
    "    r'Database=csgo_esea;'\n",
    "    r'Trusted_Connection=yes;'\n",
    "    )\n",
    "cnxn = pyodbc.connect(conn_str_esea)"
   ]
  },
  {
   "cell_type": "markdown",
   "metadata": {},
   "source": [
    "Definición de query de obtención de datos"
   ]
  },
  {
   "cell_type": "code",
   "execution_count": 40,
   "metadata": {},
   "outputs": [],
   "source": [
    "query = \"Select A.map,[Veces plantadas en A], [Veces plantadas en B], [Victorias en A], [Victorias en B], 100.0*[Victorias en A]/[Veces plantadas en A] '% Victoria A', 100.0*[Victorias en B]/[Veces plantadas en B] '% Victoria B'  from Plantadas_A A join Plantadas_B B on A.map=B.map join Victorias_A C on A.map=C.map join Victorias_B D on A.map=D.map order by [Veces plantadas en A] desc\""
   ]
  },
  {
   "cell_type": "markdown",
   "metadata": {},
   "source": [
    "Carga de datos en dataframes"
   ]
  },
  {
   "cell_type": "code",
   "execution_count": 41,
   "metadata": {},
   "outputs": [],
   "source": [
    "data = pd.read_sql_query(query, cnxn)"
   ]
  },
  {
   "cell_type": "code",
   "execution_count": 42,
   "metadata": {},
   "outputs": [
    {
     "data": {
      "text/html": [
       "<div>\n",
       "<style scoped>\n",
       "    .dataframe tbody tr th:only-of-type {\n",
       "        vertical-align: middle;\n",
       "    }\n",
       "\n",
       "    .dataframe tbody tr th {\n",
       "        vertical-align: top;\n",
       "    }\n",
       "\n",
       "    .dataframe thead th {\n",
       "        text-align: right;\n",
       "    }\n",
       "</style>\n",
       "<table border=\"1\" class=\"dataframe\">\n",
       "  <thead>\n",
       "    <tr style=\"text-align: right;\">\n",
       "      <th></th>\n",
       "      <th>map</th>\n",
       "      <th>Veces plantadas en A</th>\n",
       "      <th>Veces plantadas en B</th>\n",
       "      <th>Victorias en A</th>\n",
       "      <th>Victorias en B</th>\n",
       "      <th>% Victoria A</th>\n",
       "      <th>% Victoria B</th>\n",
       "    </tr>\n",
       "  </thead>\n",
       "  <tbody>\n",
       "    <tr>\n",
       "      <th>0</th>\n",
       "      <td>de_cache</td>\n",
       "      <td>34496</td>\n",
       "      <td>28836</td>\n",
       "      <td>26258</td>\n",
       "      <td>22312</td>\n",
       "      <td>76.118970</td>\n",
       "      <td>77.375503</td>\n",
       "    </tr>\n",
       "    <tr>\n",
       "      <th>1</th>\n",
       "      <td>de_mirage</td>\n",
       "      <td>33352</td>\n",
       "      <td>26048</td>\n",
       "      <td>25853</td>\n",
       "      <td>19513</td>\n",
       "      <td>77.515591</td>\n",
       "      <td>74.911701</td>\n",
       "    </tr>\n",
       "    <tr>\n",
       "      <th>2</th>\n",
       "      <td>de_inferno</td>\n",
       "      <td>14352</td>\n",
       "      <td>13385</td>\n",
       "      <td>11545</td>\n",
       "      <td>10747</td>\n",
       "      <td>80.441750</td>\n",
       "      <td>80.291371</td>\n",
       "    </tr>\n",
       "    <tr>\n",
       "      <th>3</th>\n",
       "      <td>de_dust2</td>\n",
       "      <td>5644</td>\n",
       "      <td>4187</td>\n",
       "      <td>4468</td>\n",
       "      <td>3363</td>\n",
       "      <td>79.163714</td>\n",
       "      <td>80.320038</td>\n",
       "    </tr>\n",
       "    <tr>\n",
       "      <th>4</th>\n",
       "      <td>de_overpass</td>\n",
       "      <td>5235</td>\n",
       "      <td>5830</td>\n",
       "      <td>4047</td>\n",
       "      <td>4422</td>\n",
       "      <td>77.306590</td>\n",
       "      <td>75.849057</td>\n",
       "    </tr>\n",
       "    <tr>\n",
       "      <th>5</th>\n",
       "      <td>de_train</td>\n",
       "      <td>2853</td>\n",
       "      <td>2960</td>\n",
       "      <td>2323</td>\n",
       "      <td>1742</td>\n",
       "      <td>81.423063</td>\n",
       "      <td>58.851351</td>\n",
       "    </tr>\n",
       "    <tr>\n",
       "      <th>6</th>\n",
       "      <td>de_cbble</td>\n",
       "      <td>1109</td>\n",
       "      <td>1424</td>\n",
       "      <td>838</td>\n",
       "      <td>1230</td>\n",
       "      <td>75.563571</td>\n",
       "      <td>86.376404</td>\n",
       "    </tr>\n",
       "    <tr>\n",
       "      <th>7</th>\n",
       "      <td>de_nuke</td>\n",
       "      <td>345</td>\n",
       "      <td>272</td>\n",
       "      <td>275</td>\n",
       "      <td>192</td>\n",
       "      <td>79.710145</td>\n",
       "      <td>70.588235</td>\n",
       "    </tr>\n",
       "  </tbody>\n",
       "</table>\n",
       "</div>"
      ],
      "text/plain": [
       "           map  Veces plantadas en A  Veces plantadas en B  Victorias en A  \\\n",
       "0     de_cache                 34496                 28836           26258   \n",
       "1    de_mirage                 33352                 26048           25853   \n",
       "2   de_inferno                 14352                 13385           11545   \n",
       "3     de_dust2                  5644                  4187            4468   \n",
       "4  de_overpass                  5235                  5830            4047   \n",
       "5     de_train                  2853                  2960            2323   \n",
       "6     de_cbble                  1109                  1424             838   \n",
       "7      de_nuke                   345                   272             275   \n",
       "\n",
       "   Victorias en B  % Victoria A  % Victoria B  \n",
       "0           22312     76.118970     77.375503  \n",
       "1           19513     77.515591     74.911701  \n",
       "2           10747     80.441750     80.291371  \n",
       "3            3363     79.163714     80.320038  \n",
       "4            4422     77.306590     75.849057  \n",
       "5            1742     81.423063     58.851351  \n",
       "6            1230     75.563571     86.376404  \n",
       "7             192     79.710145     70.588235  "
      ]
     },
     "execution_count": 42,
     "metadata": {},
     "output_type": "execute_result"
    }
   ],
   "source": [
    "data"
   ]
  },
  {
   "cell_type": "code",
   "execution_count": 73,
   "metadata": {},
   "outputs": [
    {
     "data": {
      "image/png": "[encoded data removed]",
      "text/plain": [
       "<Figure size 1080x360 with 1 Axes>"
      ]
     },
     "metadata": {
      "needs_background": "light"
     },
     "output_type": "display_data"
    }
   ],
   "source": [
    "labels = data['map']\n",
    "terror_means = data['Veces plantadas en B']\n",
    "ct_means = data['Veces plantadas en A']\n",
    "\n",
    "x = np.arange(len(labels))  # the label locations\n",
    "width = 0.35  # the width of the bars\n",
    "\n",
    "plt.rcParams[\"figure.figsize\"] = (15, 5)\n",
    "fig, ax = plt.subplots()\n",
    "rects1 = ax.bar(x - data['% Victoria A']/500, ct_means, data['% Victoria A']/250, label='Punto de A', color= 'brown')\n",
    "rects2 = ax.bar(x + data['% Victoria B']/500, terror_means, data['% Victoria B']/250, label='Punto de B', color= 'grey')\n",
    "\n",
    "\n",
    "\n",
    "# Add some text for labels, title and custom x-axis tick labels, etc.\n",
    "ax.set_ylabel('Número de veces plantada la bomba')\n",
    "ax.set_title('Número de veces que la bomba ha sido plantada por punto')\n",
    "ax.set_xticks(x)\n",
    "ax.set_xticklabels(labels)\n",
    "ax.legend()\n",
    "\n",
    "\n",
    "def autolabel(rects):\n",
    "    for rect in rects:\n",
    "        height = rect.get_height()\n",
    "        ax.annotate('{}'.format(height),\n",
    "                    xy=(rect.get_x() + rect.get_width() / 2, height),\n",
    "                    xytext=(0, 3),\n",
    "                    textcoords=\"offset points\",\n",
    "                    ha='center', va='bottom')\n",
    "\n",
    "autolabel(rects1)\n",
    "autolabel(rects2)\n",
    "\n",
    "fig.tight_layout()\n",
    "plt.show()"
   ]
  }
 ],
 "metadata": {
  "kernelspec": {
   "display_name": "Python 3",
   "language": "python",
   "name": "python3"
  },
  "language_info": {
   "codemirror_mode": {
    "name": "ipython",
    "version": 3
   },
   "file_extension": ".py",
   "mimetype": "text/x-python",
   "name": "python",
   "nbconvert_exporter": "python",
   "pygments_lexer": "ipython3",
   "version": "3.7.3"
  }
 },
 "nbformat": 4,
 "nbformat_minor": 2
}
